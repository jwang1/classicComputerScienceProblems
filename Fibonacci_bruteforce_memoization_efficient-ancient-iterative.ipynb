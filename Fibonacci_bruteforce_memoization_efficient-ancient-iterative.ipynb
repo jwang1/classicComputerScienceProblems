{
  "nbformat": 4,
  "nbformat_minor": 0,
  "metadata": {
    "colab": {
      "name": "Untitled1.ipynb",
      "provenance": [],
      "authorship_tag": "ABX9TyNzFoTmBP6JjQy/ZJi+aAAp"
    },
    "kernelspec": {
      "name": "python3",
      "display_name": "Python 3"
    }
  },
  "cells": [
    {
      "cell_type": "markdown",
      "metadata": {
        "id": "6Fc0QhtRQ3Mw",
        "colab_type": "text"
      },
      "source": [
        "# it takes long to calc fibonacci of 50 \n",
        "\n",
        "(was spinning, and I did not wait for result)\n",
        "\n",
        "```\n",
        "# This is formatted as code\n",
        "```\n",
        "\n"
      ]
    },
    {
      "cell_type": "code",
      "metadata": {
        "id": "hCepSNDBPYqS",
        "colab_type": "code",
        "colab": {
          "base_uri": "https://localhost:8080/",
          "height": 34
        },
        "outputId": "dfe6bf31-1cc8-406c-d52f-344c90c67d2c"
      },
      "source": [
        "#\n",
        "# it takes long to calc fibonacci of 50, was spinning/running, did not wait for return\n",
        "#\n",
        "def fib(n: int) -> int:\n",
        "  if n < 2:\n",
        "    return n\n",
        "  return fib(n - 2) + fib(n - 1)\n",
        "\n",
        "\n",
        "if __name__ == \"__main__\":\n",
        "  print(\"fibonacci for 30 is {}\".format(fib(30)))\n",
        "\n"
      ],
      "execution_count": 8,
      "outputs": [
        {
          "output_type": "stream",
          "text": [
            "fibonacci for 30 is 832040\n"
          ],
          "name": "stdout"
        }
      ]
    },
    {
      "cell_type": "code",
      "metadata": {
        "id": "KPG_aGnKRXOw",
        "colab_type": "code",
        "colab": {
          "base_uri": "https://localhost:8080/",
          "height": 34
        },
        "outputId": "96cd9413-04ca-4ec2-fbf8-b8e0a5ea4e84"
      },
      "source": [
        "#\n",
        "# with memoization, the fibonacci of 50 returns really fast (12586269025)\n",
        "#\n",
        "from typing import Dict\n",
        "\n",
        "memo: Dict[int, int] = {0: 0, 1: 1}\n",
        "\n",
        "def fib_memoization(n: int) -> int:\n",
        "  if n not in memo:\n",
        "    memo[n] = fib_memoization(n - 2) + fib_memoization(n -1)\n",
        "  return memo[n]\n",
        "\n",
        "\n",
        "if __name__ == \"__main__\":\n",
        "  print(\"(using memoization): fibonacci for 50 is {}\".format(fib_memoization(50)))"
      ],
      "execution_count": 10,
      "outputs": [
        {
          "output_type": "stream",
          "text": [
            "fibonacci for 50 is 12586269025\n"
          ],
          "name": "stdout"
        }
      ]
    },
    {
      "cell_type": "code",
      "metadata": {
        "id": "xNFrJBTCRGbL",
        "colab_type": "code",
        "colab": {
          "base_uri": "https://localhost:8080/",
          "height": 34
        },
        "outputId": "2b0065db-e317-4b20-91e8-c6f319ca75d3"
      },
      "source": [
        "#\n",
        "# Automatic memoization   (returns fast as well)\n",
        "#\n",
        "from functools import lru_cache\n",
        "\n",
        "@lru_cache(maxsize=None)\n",
        "def fib_memoization_using_python_lib(n: int) -> int:\n",
        "  if n < 2:\n",
        "    return n\n",
        "  return fib_memoization_using_python_lib(n - 2) + fib_memoization_using_python_lib(n - 1)\n",
        "\n",
        "if __name__ == \"__main__\":\n",
        "  print(\"(using automatic memoization, lru_cache): fibonacci for 50 is {}\".format(fib_memoization_using_python_lib(50)))\n",
        "\n"
      ],
      "execution_count": 12,
      "outputs": [
        {
          "output_type": "stream",
          "text": [
            "(using automatic memoization, lru_cache): fibonacci for 50 is 12586269025\n"
          ],
          "name": "stdout"
        }
      ]
    },
    {
      "cell_type": "code",
      "metadata": {
        "id": "Vj7kL-KYisLV",
        "colab_type": "code",
        "colab": {
          "base_uri": "https://localhost:8080/",
          "height": 34
        },
        "outputId": "d9c98c66-9ad2-40ff-b87b-3276d50c6c0c"
      },
      "source": [
        "# the straight iterative way (most efficient way)\n",
        "\n",
        "def fib_swap(n: int) -> int:\n",
        "  if n == 0:\n",
        "    return n\n",
        "\n",
        "  last: int =  0\n",
        "  next: int = 1\n",
        "\n",
        "  for _ in range(1, n):\n",
        "    last, next = next, last + next\n",
        "\n",
        "  return next\n",
        "\n",
        "if __name__ == \"__main__\":\n",
        "  print(\"--> fibonacci for 50: {}\".format(fib_swap(50)))\n",
        "\n"
      ],
      "execution_count": 23,
      "outputs": [
        {
          "output_type": "stream",
          "text": [
            "--> fibonacci for 50: 12586269025\n"
          ],
          "name": "stdout"
        }
      ]
    }
  ]
}