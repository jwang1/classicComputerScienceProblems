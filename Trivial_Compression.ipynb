{
  "nbformat": 4,
  "nbformat_minor": 0,
  "metadata": {
    "colab": {
      "name": "Trivial_Compression.ipynb",
      "provenance": [],
      "collapsed_sections": [],
      "authorship_tag": "ABX9TyMrT0b/T5sWjTv/MKw6VM9X"
    },
    "kernelspec": {
      "name": "python3",
      "display_name": "Python 3"
    }
  },
  "cells": [
    {
      "cell_type": "code",
      "metadata": {
        "id": "h2i0NpXMgdVt",
        "colab_type": "code",
        "colab": {
          "base_uri": "https://localhost:8080/",
          "height": 34
        },
        "outputId": "bab0ac7b-4174-4abc-9126-66bee6b05e1e"
      },
      "source": [
        "class CompressedGene:\n",
        "  def __init__(self, gene: str) -> None:\n",
        "    self._compress(gene)\n",
        "\n",
        "\n",
        "  def _compress(self, gene: str):\n",
        "\n",
        "    # sentinel  (so, the self.bit_Str will always have 01 at the beginning)\n",
        "    self.bit_str: int = 1\n",
        "    \n",
        "    # check each letter, appends it to the end of the self.bit_str\n",
        "    for l in gene.upper():\n",
        "       \n",
        "       self.bit_str <<= 2\n",
        "\n",
        "       if l == \"A\":\n",
        "         self.bit_str |= 0b00\n",
        "       elif l == \"C\":\n",
        "         self.bit_str |= 0b01\n",
        "       elif l == \"G\":\n",
        "         self.bit_str |= 0b10\n",
        "       elif l == \"T\":\n",
        "         self.bit_str |= 0b11\n",
        "       else:\n",
        "         raise ValueError(\"Invalid letter: {}\".format(l)) \n",
        "\n",
        "  def getCompressed(self):\n",
        "    return self.bit_str               \n",
        "\n",
        "if __name__ == \"__main__\":\n",
        "  from sys import getsizeof\n",
        "\n",
        "  # (ATGC 0100111001)\n",
        "  origin: str = \"ATGC\"  # \"ATGTCAT\" * 2\n",
        "\n",
        "  compressed: CompressedGene = CompressedGene(origin)\n",
        "\n",
        "  print(\"The original Gene Sequence: {0} is compressed into {1}\".format(origin, compressed.getCompressed()))"
      ],
      "execution_count": 9,
      "outputs": [
        {
          "output_type": "stream",
          "text": [
            "The original Gene Sequence: ATGC is compressed into 313\n"
          ],
          "name": "stdout"
        }
      ]
    }
  ]
}